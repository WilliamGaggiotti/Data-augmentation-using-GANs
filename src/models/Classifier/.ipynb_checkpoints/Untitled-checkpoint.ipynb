{
 "cells": [
  {
   "cell_type": "code",
   "execution_count": 1,
   "id": "widespread-knight",
   "metadata": {},
   "outputs": [
    {
     "data": {
      "text/plain": [
       "'2.2.0'"
      ]
     },
     "execution_count": 1,
     "metadata": {},
     "output_type": "execute_result"
    }
   ],
   "source": [
    "import tensorflow as tf\n",
    "tf.__version__"
   ]
  },
  {
   "cell_type": "code",
   "execution_count": 2,
   "id": "mathematical-prescription",
   "metadata": {},
   "outputs": [],
   "source": [
    "import glob\n",
    "import imageio\n",
    "import matplotlib.pyplot as plt\n",
    "import numpy as np\n",
    "import os\n",
    "import PIL\n",
    "from tensorflow.keras import layers\n",
    "import time\n",
    "import handshape_datasets as hd\n",
    "from IPython import display\n",
    "from datetime import datetime\n",
    "from sklearn.model_selection import train_test_split\n",
    "from tensorflow.keras.applications import VGG16, VGG19\n",
    "from tensorflow.keras.layers import Dense, GlobalAveragePooling2D, Conv2D, LeakyReLU, Dropout, Flatten\n",
    "from tensorflow.keras import Model"
   ]
  },
  {
   "cell_type": "code",
   "execution_count": 3,
   "id": "crude-london",
   "metadata": {},
   "outputs": [
    {
     "name": "stdout",
     "output_type": "stream",
     "text": [
      "1 Physical GPUs, 1 Logical GPUs\n",
      "[LogicalDevice(name='/device:GPU:0', device_type='GPU')]\n",
      "WARNING:tensorflow:From <ipython-input-3-9975c99ac4a7>:15: is_gpu_available (from tensorflow.python.framework.test_util) is deprecated and will be removed in a future version.\n",
      "Instructions for updating:\n",
      "Use `tf.config.list_physical_devices('GPU')` instead.\n"
     ]
    },
    {
     "data": {
      "text/plain": [
       "True"
      ]
     },
     "execution_count": 3,
     "metadata": {},
     "output_type": "execute_result"
    }
   ],
   "source": [
    "#Check GPU\n",
    "gpus = tf.config.experimental.list_physical_devices('GPU')\n",
    "if gpus:\n",
    "    try:\n",
    "        # Currently, memory growth needs to be the same across GPUs\n",
    "        for gpu in gpus:\n",
    "              tf.config.experimental.set_memory_growth(gpu, True)\n",
    "        logical_gpus = tf.config.experimental.list_logical_devices('GPU')\n",
    "        print(len(gpus), \"Physical GPUs,\", len(logical_gpus), \"Logical GPUs\")\n",
    "    except RuntimeError as e:\n",
    "        # Memory growth must be set before GPUs have been initialized\n",
    "        print(e)\n",
    "        \n",
    "print(tf.config.experimental.list_logical_devices('GPU'))\n",
    "tf.test.is_gpu_available()"
   ]
  },
  {
   "cell_type": "code",
   "execution_count": 4,
   "id": "polar-schedule",
   "metadata": {},
   "outputs": [
    {
     "name": "stderr",
     "output_type": "stream",
     "text": [
      "INFO:Loading PugeaultASL_A...\n"
     ]
    }
   ],
   "source": [
    "data = hd.load('PugeaultASL_A')\n",
    "\n",
    "good_min = 40\n",
    "good_classes = []\n",
    "n_unique = len(np.unique(data[1]['y']))\n",
    "for i in range(n_unique):\n",
    "    images = data[0][np.equal(i, data[1]['y'])]\n",
    "    if len(images) >= good_min:\n",
    "        good_classes = good_classes + [i]\n",
    "        \n",
    "x = data[0][np.in1d(data[1]['y'], good_classes)]\n",
    "img_shape = x[0].shape\n",
    "\n",
    "y = data[1]['y'][np.in1d(data[1]['y'], good_classes)]\n",
    "y_dict = dict(zip(np.unique(y), range(len(np.unique(y)))))\n",
    "y = np.vectorize(y_dict.get)(y)\n",
    "\n",
    "x_train, x_test, y_train, y_test = train_test_split(x, y, train_size=0.8, test_size=0.2, stratify=y)\n",
    "\n",
    "classes = np.unique(y_train)\n",
    "n_classes = len(classes)"
   ]
  },
  {
   "cell_type": "code",
   "execution_count": 17,
   "id": "similar-assumption",
   "metadata": {},
   "outputs": [],
   "source": [
    "def model():\n",
    "    model = tf.keras.Sequential()\n",
    "    model.add(Conv2D(64, (5, 5), strides=(2, 2), padding='same',input_shape=[32, 32, 3]))\n",
    "    model.add(LeakyReLU())\n",
    "    model.add(Dropout(0.3))\n",
    "\n",
    "    model.add(Conv2D(128, (5, 5), strides=(2, 2), padding='same'))\n",
    "    model.add(LeakyReLU())\n",
    "    model.add(Dropout(0.3))\n",
    "\n",
    "    model.add(Flatten())\n",
    "    model.add(Dense(n_classes, activation='softmax'))\n",
    "\n",
    "    return model"
   ]
  },
  {
   "cell_type": "code",
   "execution_count": 6,
   "id": "minus-budget",
   "metadata": {},
   "outputs": [
    {
     "name": "stdout",
     "output_type": "stream",
     "text": [
      "Model: \"sequential\"\n",
      "_________________________________________________________________\n",
      "Layer (type)                 Output Shape              Param #   \n",
      "=================================================================\n",
      "conv2d (Conv2D)              (None, 16, 16, 64)        4864      \n",
      "_________________________________________________________________\n",
      "leaky_re_lu (LeakyReLU)      (None, 16, 16, 64)        0         \n",
      "_________________________________________________________________\n",
      "dropout (Dropout)            (None, 16, 16, 64)        0         \n",
      "_________________________________________________________________\n",
      "conv2d_1 (Conv2D)            (None, 8, 8, 128)         204928    \n",
      "_________________________________________________________________\n",
      "leaky_re_lu_1 (LeakyReLU)    (None, 8, 8, 128)         0         \n",
      "_________________________________________________________________\n",
      "dropout_1 (Dropout)          (None, 8, 8, 128)         0         \n",
      "_________________________________________________________________\n",
      "flatten (Flatten)            (None, 8192)              0         \n",
      "_________________________________________________________________\n",
      "dense (Dense)                (None, 24)                196632    \n",
      "=================================================================\n",
      "Total params: 406,424\n",
      "Trainable params: 406,424\n",
      "Non-trainable params: 0\n",
      "_________________________________________________________________\n"
     ]
    }
   ],
   "source": [
    "model = model()\n",
    "model.summary()\n",
    "model.compile(optimizer='Adam', loss='sparse_categorical_crossentropy', metrics=['accuracy'])"
   ]
  },
  {
   "cell_type": "code",
   "execution_count": 8,
   "id": "packed-stake",
   "metadata": {},
   "outputs": [
    {
     "name": "stdout",
     "output_type": "stream",
     "text": [
      "Epoch 1/20\n",
      "412/412 [==============================] - 3s 8ms/step - loss: 2.9505 - accuracy: 0.6072 - val_loss: 0.8413 - val_accuracy: 0.7976\n",
      "Epoch 2/20\n",
      "412/412 [==============================] - 3s 8ms/step - loss: 0.8101 - accuracy: 0.8098 - val_loss: 0.7249 - val_accuracy: 0.8369\n",
      "Epoch 3/20\n",
      "412/412 [==============================] - 3s 8ms/step - loss: 0.8255 - accuracy: 0.8333 - val_loss: 0.6582 - val_accuracy: 0.8630\n",
      "Epoch 4/20\n",
      "412/412 [==============================] - 3s 8ms/step - loss: 1.2969 - accuracy: 0.8193 - val_loss: 1.3534 - val_accuracy: 0.8552\n",
      "Epoch 5/20\n",
      "412/412 [==============================] - 3s 8ms/step - loss: 2.8113 - accuracy: 0.8001 - val_loss: 2.8280 - val_accuracy: 0.8319\n",
      "Epoch 6/20\n",
      "412/412 [==============================] - 3s 8ms/step - loss: 3.2950 - accuracy: 0.8320 - val_loss: 3.7167 - val_accuracy: 0.8401\n",
      "Epoch 7/20\n",
      "412/412 [==============================] - 3s 8ms/step - loss: 3.4561 - accuracy: 0.8510 - val_loss: 2.6499 - val_accuracy: 0.8721\n",
      "Epoch 8/20\n",
      "412/412 [==============================] - 3s 8ms/step - loss: 3.3208 - accuracy: 0.8695 - val_loss: 2.9755 - val_accuracy: 0.8899\n",
      "Epoch 9/20\n",
      "412/412 [==============================] - 3s 8ms/step - loss: 3.6615 - accuracy: 0.8765 - val_loss: 4.0053 - val_accuracy: 0.8870\n",
      "Epoch 10/20\n",
      "412/412 [==============================] - 3s 8ms/step - loss: 4.3332 - accuracy: 0.8779 - val_loss: 5.9780 - val_accuracy: 0.8469\n",
      "Epoch 11/20\n",
      "412/412 [==============================] - 3s 8ms/step - loss: 4.6519 - accuracy: 0.8845 - val_loss: 3.5713 - val_accuracy: 0.9114\n",
      "Epoch 12/20\n",
      "412/412 [==============================] - 3s 8ms/step - loss: 3.8788 - accuracy: 0.9040 - val_loss: 3.9675 - val_accuracy: 0.9103\n",
      "Epoch 13/20\n",
      "412/412 [==============================] - 3s 8ms/step - loss: 4.4257 - accuracy: 0.9021 - val_loss: 3.9882 - val_accuracy: 0.9218\n",
      "Epoch 14/20\n",
      "412/412 [==============================] - 3s 8ms/step - loss: 4.9546 - accuracy: 0.9045 - val_loss: 7.7940 - val_accuracy: 0.8855\n",
      "Epoch 15/20\n",
      "412/412 [==============================] - 3s 8ms/step - loss: 5.6047 - accuracy: 0.9074 - val_loss: 3.3684 - val_accuracy: 0.9462\n",
      "Epoch 16/20\n",
      "412/412 [==============================] - 3s 8ms/step - loss: 4.6126 - accuracy: 0.9197 - val_loss: 3.7037 - val_accuracy: 0.9429\n",
      "Epoch 17/20\n",
      "412/412 [==============================] - 3s 8ms/step - loss: 4.8035 - accuracy: 0.9222 - val_loss: 3.5769 - val_accuracy: 0.9514\n",
      "Epoch 18/20\n",
      "412/412 [==============================] - 3s 8ms/step - loss: 5.7387 - accuracy: 0.9180 - val_loss: 4.4946 - val_accuracy: 0.9422\n",
      "Epoch 19/20\n",
      "412/412 [==============================] - 3s 8ms/step - loss: 5.7101 - accuracy: 0.9228 - val_loss: 5.3098 - val_accuracy: 0.9405\n",
      "Epoch 20/20\n",
      "412/412 [==============================] - 4s 9ms/step - loss: 5.4731 - accuracy: 0.9294 - val_loss: 4.5078 - val_accuracy: 0.9479\n"
     ]
    },
    {
     "data": {
      "text/plain": [
       "<tensorflow.python.keras.callbacks.History at 0x7fb6ce7d5970>"
      ]
     },
     "execution_count": 8,
     "metadata": {},
     "output_type": "execute_result"
    }
   ],
   "source": [
    "model.fit(x_train, y_train, batch_size=128, epochs=20, validation_data=(x_test, y_test))"
   ]
  },
  {
   "cell_type": "code",
   "execution_count": 9,
   "id": "daily-worst",
   "metadata": {},
   "outputs": [
    {
     "name": "stderr",
     "output_type": "stream",
     "text": [
      "INFO:Loading PugeaultASL_A...\n"
     ]
    },
    {
     "name": "stdout",
     "output_type": "stream",
     "text": [
      "(52619, 32, 32, 3) (52619,)\n"
     ]
    }
   ],
   "source": [
    "data = hd.load('PugeaultASL_A')\n",
    "\n",
    "good_min = 40\n",
    "good_classes = []\n",
    "n_unique = len(np.unique(data[1]['y']))\n",
    "for i in range(n_unique):\n",
    "    images = data[0][np.equal(i, data[1]['y'])]\n",
    "    if len(images) >= good_min:\n",
    "        good_classes = good_classes + [i]\n",
    "        \n",
    "x = data[0][np.in1d(data[1]['y'], good_classes)]\n",
    "img_shape = x[0].shape\n",
    "\n",
    "y = data[1]['y'][np.in1d(data[1]['y'], good_classes)]\n",
    "y_dict = dict(zip(np.unique(y), range(len(np.unique(y)))))\n",
    "y = np.vectorize(y_dict.get)(y)\n",
    "\n",
    "# shapes\n",
    "img_n , height, weight, chanels = x.shape\n",
    "\n",
    "#Normalization\n",
    "x = x.reshape(img_n, height, weight, chanels).astype('float32')\n",
    "x = (x - 127.5) / 127.5  # Normalize the images to [-1, 1]\n",
    "\n",
    "x_train, x_test, y_train, y_test = train_test_split(x, y, train_size=0.8, test_size=0.2, stratify=y)\n",
    "\n",
    "classes = np.unique(y_train)\n",
    "n_classes = len(classes)\n",
    "\n",
    "#x_tuple = list(zip(x_train_aug,y_train))\n",
    "#x_train_aug\n",
    "\n",
    "print(x_train.shape, y_train.shape)"
   ]
  },
  {
   "cell_type": "code",
   "execution_count": 10,
   "id": "noted-consumer",
   "metadata": {},
   "outputs": [],
   "source": [
    "def make_generator_model():\n",
    "    model = tf.keras.Sequential()\n",
    "    model.add(layers.Dense(int(height/4)*int(weight/4)*256, use_bias=False, input_shape=(100,)))\n",
    "    model.add(layers.BatchNormalization())\n",
    "    model.add(layers.LeakyReLU())\n",
    "\n",
    "    model.add(layers.Reshape((int(height/4), int(weight/4), 256)))\n",
    "\n",
    "    model.add(layers.Conv2DTranspose(128, (5, 5), strides=(1, 1), padding='same', use_bias=False))\n",
    "    model.add(layers.BatchNormalization())\n",
    "    model.add(layers.LeakyReLU())\n",
    "\n",
    "    model.add(layers.Conv2DTranspose(64, (5, 5), strides=(2, 2), padding='same', use_bias=False))\n",
    "    model.add(layers.BatchNormalization())\n",
    "    model.add(layers.LeakyReLU())\n",
    "\n",
    "    model.add(layers.Conv2DTranspose(3, (5, 5), strides=(2, 2), padding='same', use_bias=False, activation='tanh'))\n",
    "    \n",
    "    return model"
   ]
  },
  {
   "cell_type": "code",
   "execution_count": 11,
   "id": "criminal-transsexual",
   "metadata": {},
   "outputs": [
    {
     "name": "stdout",
     "output_type": "stream",
     "text": [
      "Model: \"sequential_1\"\n",
      "_________________________________________________________________\n",
      "Layer (type)                 Output Shape              Param #   \n",
      "=================================================================\n",
      "dense_1 (Dense)              (None, 16384)             1638400   \n",
      "_________________________________________________________________\n",
      "batch_normalization (BatchNo (None, 16384)             65536     \n",
      "_________________________________________________________________\n",
      "leaky_re_lu_2 (LeakyReLU)    (None, 16384)             0         \n",
      "_________________________________________________________________\n",
      "reshape (Reshape)            (None, 8, 8, 256)         0         \n",
      "_________________________________________________________________\n",
      "conv2d_transpose (Conv2DTran (None, 8, 8, 128)         819200    \n",
      "_________________________________________________________________\n",
      "batch_normalization_1 (Batch (None, 8, 8, 128)         512       \n",
      "_________________________________________________________________\n",
      "leaky_re_lu_3 (LeakyReLU)    (None, 8, 8, 128)         0         \n",
      "_________________________________________________________________\n",
      "conv2d_transpose_1 (Conv2DTr (None, 16, 16, 64)        204800    \n",
      "_________________________________________________________________\n",
      "batch_normalization_2 (Batch (None, 16, 16, 64)        256       \n",
      "_________________________________________________________________\n",
      "leaky_re_lu_4 (LeakyReLU)    (None, 16, 16, 64)        0         \n",
      "_________________________________________________________________\n",
      "conv2d_transpose_2 (Conv2DTr (None, 32, 32, 3)         4800      \n",
      "=================================================================\n",
      "Total params: 2,733,504\n",
      "Trainable params: 2,700,352\n",
      "Non-trainable params: 33,152\n",
      "_________________________________________________________________\n"
     ]
    }
   ],
   "source": [
    "generator = make_generator_model()\n",
    "generator.summary()\n",
    "num_examples_to_generate = 3000\n",
    "noise = tf.random.normal([num_examples_to_generate, 100])"
   ]
  },
  {
   "cell_type": "code",
   "execution_count": 12,
   "id": "textile-opposition",
   "metadata": {},
   "outputs": [
    {
     "name": "stdout",
     "output_type": "stream",
     "text": [
      "(100619, 32, 32, 3) (100619,)\n"
     ]
    }
   ],
   "source": [
    "\n",
    "weights_path = '../GANs/Basic-GAN/results/generators_weights/PugeaultASL_A/class_{}/generator.h5'\n",
    "for i in range(16):\n",
    "        generator.load_weights(weights_path.format(i))\n",
    "        generated_image = generator(noise, training=False).numpy()\n",
    "        x_train = np.concatenate((x_train, generated_image), axis=0)\n",
    "        y_tmp = np.ones(num_examples_to_generate,)* i\n",
    "        y_train = np.concatenate((y_train,y_tmp), axis=0)\n",
    "        \n",
    "print(x_train.shape, y_train.shape)\n"
   ]
  },
  {
   "cell_type": "code",
   "execution_count": 13,
   "id": "coral-method",
   "metadata": {},
   "outputs": [
    {
     "name": "stdout",
     "output_type": "stream",
     "text": [
      "(100619, 32, 32, 3) (100619,)\n"
     ]
    }
   ],
   "source": [
    "shuffler = np.random.permutation(x_train.shape[0])\n",
    "x_train = x_train[shuffler]\n",
    "y_train = y_train[shuffler]\n",
    "print(x_train.shape, y_train.shape)"
   ]
  },
  {
   "cell_type": "code",
   "execution_count": 18,
   "id": "convinced-consumption",
   "metadata": {},
   "outputs": [
    {
     "name": "stdout",
     "output_type": "stream",
     "text": [
      "Model: \"sequential_2\"\n",
      "_________________________________________________________________\n",
      "Layer (type)                 Output Shape              Param #   \n",
      "=================================================================\n",
      "conv2d_2 (Conv2D)            (None, 16, 16, 64)        4864      \n",
      "_________________________________________________________________\n",
      "leaky_re_lu_5 (LeakyReLU)    (None, 16, 16, 64)        0         \n",
      "_________________________________________________________________\n",
      "dropout_2 (Dropout)          (None, 16, 16, 64)        0         \n",
      "_________________________________________________________________\n",
      "conv2d_3 (Conv2D)            (None, 8, 8, 128)         204928    \n",
      "_________________________________________________________________\n",
      "leaky_re_lu_6 (LeakyReLU)    (None, 8, 8, 128)         0         \n",
      "_________________________________________________________________\n",
      "dropout_3 (Dropout)          (None, 8, 8, 128)         0         \n",
      "_________________________________________________________________\n",
      "flatten_1 (Flatten)          (None, 8192)              0         \n",
      "_________________________________________________________________\n",
      "dense_2 (Dense)              (None, 24)                196632    \n",
      "=================================================================\n",
      "Total params: 406,424\n",
      "Trainable params: 406,424\n",
      "Non-trainable params: 0\n",
      "_________________________________________________________________\n"
     ]
    }
   ],
   "source": [
    "model2 = model()\n",
    "model2.summary()\n",
    "model2.compile(optimizer='Adam', loss='sparse_categorical_crossentropy', metrics=['accuracy'])"
   ]
  },
  {
   "cell_type": "code",
   "execution_count": 19,
   "id": "canadian-stack",
   "metadata": {},
   "outputs": [
    {
     "name": "stdout",
     "output_type": "stream",
     "text": [
      "Epoch 1/20\n",
      "787/787 [==============================] - 7s 9ms/step - loss: 0.4730 - accuracy: 0.8604 - val_loss: 0.3396 - val_accuracy: 0.8968\n",
      "Epoch 2/20\n",
      "787/787 [==============================] - 6s 8ms/step - loss: 0.1685 - accuracy: 0.9479 - val_loss: 0.2536 - val_accuracy: 0.9216\n",
      "Epoch 3/20\n",
      "787/787 [==============================] - 6s 8ms/step - loss: 0.1252 - accuracy: 0.9607 - val_loss: 0.1718 - val_accuracy: 0.9504\n",
      "Epoch 4/20\n",
      "787/787 [==============================] - 6s 8ms/step - loss: 0.1038 - accuracy: 0.9673 - val_loss: 0.1474 - val_accuracy: 0.9551\n",
      "Epoch 5/20\n",
      "787/787 [==============================] - 6s 8ms/step - loss: 0.0908 - accuracy: 0.9714 - val_loss: 0.1414 - val_accuracy: 0.9605\n",
      "Epoch 6/20\n",
      "787/787 [==============================] - 6s 8ms/step - loss: 0.0891 - accuracy: 0.9723 - val_loss: 0.1432 - val_accuracy: 0.9578\n",
      "Epoch 7/20\n",
      "787/787 [==============================] - 6s 8ms/step - loss: 0.0784 - accuracy: 0.9753 - val_loss: 0.3215 - val_accuracy: 0.9254\n",
      "Epoch 8/20\n",
      "787/787 [==============================] - 6s 8ms/step - loss: 0.0869 - accuracy: 0.9741 - val_loss: 0.1423 - val_accuracy: 0.9619\n",
      "Epoch 9/20\n",
      "787/787 [==============================] - 6s 8ms/step - loss: 0.0731 - accuracy: 0.9781 - val_loss: 0.1389 - val_accuracy: 0.9662\n",
      "Epoch 10/20\n",
      "787/787 [==============================] - 6s 8ms/step - loss: 0.0704 - accuracy: 0.9793 - val_loss: 0.1418 - val_accuracy: 0.9643\n",
      "Epoch 11/20\n",
      "787/787 [==============================] - 6s 8ms/step - loss: 0.0716 - accuracy: 0.9796 - val_loss: 0.1511 - val_accuracy: 0.9688\n",
      "Epoch 12/20\n",
      "787/787 [==============================] - 7s 8ms/step - loss: 0.0767 - accuracy: 0.9788 - val_loss: 0.1290 - val_accuracy: 0.9707\n",
      "Epoch 13/20\n",
      "787/787 [==============================] - 7s 8ms/step - loss: 0.0682 - accuracy: 0.9814 - val_loss: 0.1260 - val_accuracy: 0.9699\n",
      "Epoch 14/20\n",
      "787/787 [==============================] - 7s 8ms/step - loss: 0.0711 - accuracy: 0.9812 - val_loss: 0.1236 - val_accuracy: 0.9751\n",
      "Epoch 15/20\n",
      "787/787 [==============================] - 6s 8ms/step - loss: 0.0714 - accuracy: 0.9815 - val_loss: 0.1244 - val_accuracy: 0.9761\n",
      "Epoch 16/20\n",
      "787/787 [==============================] - 6s 8ms/step - loss: 0.0707 - accuracy: 0.9823 - val_loss: 0.1547 - val_accuracy: 0.9712\n",
      "Epoch 17/20\n",
      "787/787 [==============================] - 6s 8ms/step - loss: 0.0702 - accuracy: 0.9833 - val_loss: 0.1449 - val_accuracy: 0.9732\n",
      "Epoch 18/20\n",
      "787/787 [==============================] - 6s 8ms/step - loss: 0.0798 - accuracy: 0.9814 - val_loss: 0.1695 - val_accuracy: 0.9715\n",
      "Epoch 19/20\n",
      "787/787 [==============================] - 6s 8ms/step - loss: 0.0691 - accuracy: 0.9841 - val_loss: 0.1442 - val_accuracy: 0.9748\n",
      "Epoch 20/20\n",
      "787/787 [==============================] - 6s 8ms/step - loss: 0.0722 - accuracy: 0.9839 - val_loss: 0.1513 - val_accuracy: 0.9761\n"
     ]
    },
    {
     "data": {
      "text/plain": [
       "<tensorflow.python.keras.callbacks.History at 0x7fb69c1829a0>"
      ]
     },
     "execution_count": 19,
     "metadata": {},
     "output_type": "execute_result"
    }
   ],
   "source": [
    "model2.fit(x_train, y_train, batch_size=128, epochs=20, validation_data=(x_test, y_test))"
   ]
  },
  {
   "cell_type": "code",
   "execution_count": null,
   "id": "black-lunch",
   "metadata": {},
   "outputs": [],
   "source": []
  }
 ],
 "metadata": {
  "kernelspec": {
   "display_name": "Python 3",
   "language": "python",
   "name": "python3"
  },
  "language_info": {
   "codemirror_mode": {
    "name": "ipython",
    "version": 3
   },
   "file_extension": ".py",
   "mimetype": "text/x-python",
   "name": "python",
   "nbconvert_exporter": "python",
   "pygments_lexer": "ipython3",
   "version": "3.8.8"
  }
 },
 "nbformat": 4,
 "nbformat_minor": 5
}
