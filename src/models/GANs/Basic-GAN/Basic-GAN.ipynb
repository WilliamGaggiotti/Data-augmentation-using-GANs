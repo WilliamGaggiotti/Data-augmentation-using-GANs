{
 "cells": [
  {
   "cell_type": "code",
   "execution_count": 10,
   "id": "rocky-turkish",
   "metadata": {},
   "outputs": [],
   "source": [
    "import tensorflow as tf"
   ]
  },
  {
   "cell_type": "code",
   "execution_count": 11,
   "id": "spread-calvin",
   "metadata": {},
   "outputs": [
    {
     "data": {
      "text/plain": [
       "'2.2.0'"
      ]
     },
     "execution_count": 11,
     "metadata": {},
     "output_type": "execute_result"
    }
   ],
   "source": [
    "tf.__version__"
   ]
  },
  {
   "cell_type": "code",
   "execution_count": 12,
   "id": "quantitative-bunch",
   "metadata": {},
   "outputs": [],
   "source": [
    "import glob\n",
    "import imageio\n",
    "import matplotlib.pyplot as plt\n",
    "import numpy as np\n",
    "import os\n",
    "import PIL\n",
    "from tensorflow.keras import layers\n",
    "import time\n",
    "import handshape_datasets as hd\n",
    "from IPython import display\n",
    "from datetime import datetime\n",
    "from tensorflow.keras.preprocessing.image import ImageDataGenerator\n",
    "from PIL import Image"
   ]
  },
  {
   "cell_type": "markdown",
   "id": "remarkable-offset",
   "metadata": {},
   "source": [
    "### Clean GPU"
   ]
  },
  {
   "cell_type": "code",
   "execution_count": 320,
   "id": "particular-cream",
   "metadata": {},
   "outputs": [
    {
     "name": "stdout",
     "output_type": "stream",
     "text": [
      "1 Physical GPUs, 1 Logical GPUs\n",
      "[LogicalDevice(name='/device:GPU:0', device_type='GPU')]\n"
     ]
    },
    {
     "data": {
      "text/plain": [
       "True"
      ]
     },
     "execution_count": 320,
     "metadata": {},
     "output_type": "execute_result"
    }
   ],
   "source": [
    "#Check GPU\n",
    "gpus = tf.config.experimental.list_physical_devices('GPU')\n",
    "if gpus:\n",
    "    try:\n",
    "        # Currently, memory growth needs to be the same across GPUs\n",
    "        for gpu in gpus:\n",
    "              tf.config.experimental.set_memory_growth(gpu, True)\n",
    "        logical_gpus = tf.config.experimental.list_logical_devices('GPU')\n",
    "        print(len(gpus), \"Physical GPUs,\", len(logical_gpus), \"Logical GPUs\")\n",
    "    except RuntimeError as e:\n",
    "        # Memory growth must be set before GPUs have been initialized\n",
    "        print(e)\n",
    "        \n",
    "print(tf.config.experimental.list_logical_devices('GPU'))\n",
    "tf.test.is_gpu_available()"
   ]
  },
  {
   "cell_type": "markdown",
   "id": "light-honor",
   "metadata": {},
   "source": [
    "## Load dataset with handshape_datasets"
   ]
  },
  {
   "cell_type": "code",
   "execution_count": 5,
   "id": "pacific-spouse",
   "metadata": {},
   "outputs": [
    {
     "name": "stderr",
     "output_type": "stream",
     "text": [
      "INFO:Loading lsa16...\n",
      "INFO:Loading default version: color\n"
     ]
    },
    {
     "data": {
      "text/plain": [
       "(800, 32, 32, 3)"
      ]
     },
     "execution_count": 5,
     "metadata": {},
     "output_type": "execute_result"
    }
   ],
   "source": [
    "data = hd.load('lsa16')\n",
    "\n",
    "good_min = 40\n",
    "good_classes = []\n",
    "n_unique = len(np.unique(data[1]['y']))\n",
    "for i in range(n_unique):\n",
    "    images = data[0][np.equal(i, data[1]['y'])]\n",
    "    if len(images) >= good_min:\n",
    "        good_classes = good_classes + [i]\n",
    "        \n",
    "x = data[0][np.in1d(data[1]['y'], good_classes)]\n",
    "img_shape = x[0].shape\n",
    "\n",
    "y = data[1]['y'][np.in1d(data[1]['y'], good_classes)]\n",
    "y_dict = dict(zip(np.unique(y), range(len(np.unique(y)))))\n",
    "y = np.vectorize(y_dict.get)(y)\n",
    "\n",
    "#x_train, x_test, y_train, y_test = train_test_split(x, y, train_size=0.8, test_size=0.2, stratify=y)\n",
    "\n",
    "#classes = np.unique(y_train)\n",
    "#n_classes = len(classes)\n",
    "#train_size = x_train.shape[0]\n",
    "#test_size = x_test.shape[0]\n",
    "\n",
    "train_images = x\n",
    "\n",
    "train_images.shape"
   ]
  },
  {
   "cell_type": "markdown",
   "id": "differential-buddy",
   "metadata": {},
   "source": [
    "## Load dataaset locally"
   ]
  },
  {
   "cell_type": "code",
   "execution_count": 110,
   "id": "extreme-investment",
   "metadata": {},
   "outputs": [],
   "source": [
    "def normalize_images(images):\n",
    "    return (images - 127.5) / 127.5"
   ]
  },
  {
   "cell_type": "code",
   "execution_count": 321,
   "id": "continued-bathroom",
   "metadata": {},
   "outputs": [
    {
     "data": {
      "text/plain": [
       "(800, 64, 64, 3)"
      ]
     },
     "execution_count": 321,
     "metadata": {},
     "output_type": "execute_result"
    }
   ],
   "source": [
    "#Directorio de imagenes\n",
    "train_folderpath = '../../../../datasets/lsa16_64x64_rotated/full/class_15'\n",
    "    \n",
    "train_images=[]\n",
    "for file in os.listdir(os.path.join(train_folderpath)):\n",
    "    image_path= os.path.join(train_folderpath, file)\n",
    "    image= np.array(Image.open(image_path))\n",
    "    image = image.astype('float32')\n",
    "    image = normalize_images(image) \n",
    "    train_images.append(image)\n",
    "\n",
    "train_images = np.array(train_images)\n",
    "train_images.shape\n",
    "        "
   ]
  },
  {
   "cell_type": "markdown",
   "id": "equivalent-holmes",
   "metadata": {},
   "source": [
    "## Hyperparameters"
   ]
  },
  {
   "cell_type": "code",
   "execution_count": 322,
   "id": "further-builder",
   "metadata": {},
   "outputs": [
    {
     "name": "stdout",
     "output_type": "stream",
     "text": [
      " number of images: 800\n",
      " height: 64\n",
      " weight: 64\n",
      " chanels: 3\n"
     ]
    },
    {
     "data": {
      "text/plain": [
       "'../../../../data_gen/Basic-GAN/lsa16_64x64_rotated/class_15/'"
      ]
     },
     "execution_count": 322,
     "metadata": {},
     "output_type": "execute_result"
    }
   ],
   "source": [
    "# training\n",
    "g_lr = 1e-4\n",
    "d_lr = 1e-4\n",
    "epochs = 1000\n",
    "#max_patience = 200\n",
    "#min_loss = 25\n",
    "#min_loss_acc = 0\n",
    "batch_size = 128\n",
    "noise_dim = 100\n",
    "num_examples_to_generate = 16\n",
    "\n",
    "# log\n",
    "log_freq = 1\n",
    "dataset_directory = \"class_15/\"\n",
    "models_directory = 'results/generators_weights/lsa16_64x64_rotated/' + dataset_directory\n",
    "date = datetime.now().strftime(\"%Y_%m_%d-%H:%M:%S\")\n",
    "save_image_directory = \"../../../../data_gen/Basic-GAN/lsa16_64x64_rotated/\" + dataset_directory\n",
    "\n",
    "# shapes\n",
    "img_n , height, weight, chanels = train_images.shape\n",
    "\n",
    "print(\" number of images: {}\\n height: {}\\n weight: {}\\n chanels: {}\".format(img_n , height, weight, chanels))\n",
    "save_image_directory"
   ]
  },
  {
   "cell_type": "markdown",
   "id": "equal-width",
   "metadata": {},
   "source": [
    "## Normalization\n",
    "\n",
    "Debemos escalar los valores de los píxeles desde el rango de enteros sin signo en [0,255] al rango normalizado de [-1,1].\n",
    "\n",
    "El modelo del generador generará imágenes con valores de píxeles en el rango [-1,1] ya que utilizará la función de activación tanh.\n",
    "\n",
    "También es una buena práctica que las imágenes reales se escalen al mismo rango"
   ]
  },
  {
   "cell_type": "code",
   "execution_count": 9,
   "id": "young-roommate",
   "metadata": {
    "scrolled": true
   },
   "outputs": [
    {
     "data": {
      "text/plain": [
       "array([[[[-1., -1., -1.],\n",
       "         [-1., -1., -1.],\n",
       "         [-1., -1., -1.],\n",
       "         ...,\n",
       "         [-1., -1., -1.],\n",
       "         [-1., -1., -1.],\n",
       "         [-1., -1., -1.]],\n",
       "\n",
       "        [[-1., -1., -1.],\n",
       "         [-1., -1., -1.],\n",
       "         [-1., -1., -1.],\n",
       "         ...,\n",
       "         [-1., -1., -1.],\n",
       "         [-1., -1., -1.],\n",
       "         [-1., -1., -1.]],\n",
       "\n",
       "        [[-1., -1., -1.],\n",
       "         [-1., -1., -1.],\n",
       "         [-1., -1., -1.],\n",
       "         ...,\n",
       "         [-1., -1., -1.],\n",
       "         [-1., -1., -1.],\n",
       "         [-1., -1., -1.]],\n",
       "\n",
       "        ...,\n",
       "\n",
       "        [[-1., -1., -1.],\n",
       "         [-1., -1., -1.],\n",
       "         [-1., -1., -1.],\n",
       "         ...,\n",
       "         [-1., -1., -1.],\n",
       "         [-1., -1., -1.],\n",
       "         [-1., -1., -1.]],\n",
       "\n",
       "        [[-1., -1., -1.],\n",
       "         [-1., -1., -1.],\n",
       "         [-1., -1., -1.],\n",
       "         ...,\n",
       "         [-1., -1., -1.],\n",
       "         [-1., -1., -1.],\n",
       "         [-1., -1., -1.]],\n",
       "\n",
       "        [[-1., -1., -1.],\n",
       "         [-1., -1., -1.],\n",
       "         [-1., -1., -1.],\n",
       "         ...,\n",
       "         [-1., -1., -1.],\n",
       "         [-1., -1., -1.],\n",
       "         [-1., -1., -1.]]],\n",
       "\n",
       "\n",
       "       [[[-1., -1., -1.],\n",
       "         [-1., -1., -1.],\n",
       "         [-1., -1., -1.],\n",
       "         ...,\n",
       "         [-1., -1., -1.],\n",
       "         [-1., -1., -1.],\n",
       "         [-1., -1., -1.]],\n",
       "\n",
       "        [[-1., -1., -1.],\n",
       "         [-1., -1., -1.],\n",
       "         [-1., -1., -1.],\n",
       "         ...,\n",
       "         [-1., -1., -1.],\n",
       "         [-1., -1., -1.],\n",
       "         [-1., -1., -1.]],\n",
       "\n",
       "        [[-1., -1., -1.],\n",
       "         [-1., -1., -1.],\n",
       "         [-1., -1., -1.],\n",
       "         ...,\n",
       "         [-1., -1., -1.],\n",
       "         [-1., -1., -1.],\n",
       "         [-1., -1., -1.]],\n",
       "\n",
       "        ...,\n",
       "\n",
       "        [[-1., -1., -1.],\n",
       "         [-1., -1., -1.],\n",
       "         [-1., -1., -1.],\n",
       "         ...,\n",
       "         [-1., -1., -1.],\n",
       "         [-1., -1., -1.],\n",
       "         [-1., -1., -1.]],\n",
       "\n",
       "        [[-1., -1., -1.],\n",
       "         [-1., -1., -1.],\n",
       "         [-1., -1., -1.],\n",
       "         ...,\n",
       "         [-1., -1., -1.],\n",
       "         [-1., -1., -1.],\n",
       "         [-1., -1., -1.]],\n",
       "\n",
       "        [[-1., -1., -1.],\n",
       "         [-1., -1., -1.],\n",
       "         [-1., -1., -1.],\n",
       "         ...,\n",
       "         [-1., -1., -1.],\n",
       "         [-1., -1., -1.],\n",
       "         [-1., -1., -1.]]],\n",
       "\n",
       "\n",
       "       [[[-1., -1., -1.],\n",
       "         [-1., -1., -1.],\n",
       "         [-1., -1., -1.],\n",
       "         ...,\n",
       "         [-1., -1., -1.],\n",
       "         [-1., -1., -1.],\n",
       "         [-1., -1., -1.]],\n",
       "\n",
       "        [[-1., -1., -1.],\n",
       "         [-1., -1., -1.],\n",
       "         [-1., -1., -1.],\n",
       "         ...,\n",
       "         [-1., -1., -1.],\n",
       "         [-1., -1., -1.],\n",
       "         [-1., -1., -1.]],\n",
       "\n",
       "        [[-1., -1., -1.],\n",
       "         [-1., -1., -1.],\n",
       "         [-1., -1., -1.],\n",
       "         ...,\n",
       "         [-1., -1., -1.],\n",
       "         [-1., -1., -1.],\n",
       "         [-1., -1., -1.]],\n",
       "\n",
       "        ...,\n",
       "\n",
       "        [[-1., -1., -1.],\n",
       "         [-1., -1., -1.],\n",
       "         [-1., -1., -1.],\n",
       "         ...,\n",
       "         [-1., -1., -1.],\n",
       "         [-1., -1., -1.],\n",
       "         [-1., -1., -1.]],\n",
       "\n",
       "        [[-1., -1., -1.],\n",
       "         [-1., -1., -1.],\n",
       "         [-1., -1., -1.],\n",
       "         ...,\n",
       "         [-1., -1., -1.],\n",
       "         [-1., -1., -1.],\n",
       "         [-1., -1., -1.]],\n",
       "\n",
       "        [[-1., -1., -1.],\n",
       "         [-1., -1., -1.],\n",
       "         [-1., -1., -1.],\n",
       "         ...,\n",
       "         [-1., -1., -1.],\n",
       "         [-1., -1., -1.],\n",
       "         [-1., -1., -1.]]],\n",
       "\n",
       "\n",
       "       ...,\n",
       "\n",
       "\n",
       "       [[[-1., -1., -1.],\n",
       "         [-1., -1., -1.],\n",
       "         [-1., -1., -1.],\n",
       "         ...,\n",
       "         [-1., -1., -1.],\n",
       "         [-1., -1., -1.],\n",
       "         [-1., -1., -1.]],\n",
       "\n",
       "        [[-1., -1., -1.],\n",
       "         [-1., -1., -1.],\n",
       "         [-1., -1., -1.],\n",
       "         ...,\n",
       "         [-1., -1., -1.],\n",
       "         [-1., -1., -1.],\n",
       "         [-1., -1., -1.]],\n",
       "\n",
       "        [[-1., -1., -1.],\n",
       "         [-1., -1., -1.],\n",
       "         [-1., -1., -1.],\n",
       "         ...,\n",
       "         [-1., -1., -1.],\n",
       "         [-1., -1., -1.],\n",
       "         [-1., -1., -1.]],\n",
       "\n",
       "        ...,\n",
       "\n",
       "        [[-1., -1., -1.],\n",
       "         [-1., -1., -1.],\n",
       "         [-1., -1., -1.],\n",
       "         ...,\n",
       "         [-1., -1., -1.],\n",
       "         [-1., -1., -1.],\n",
       "         [-1., -1., -1.]],\n",
       "\n",
       "        [[-1., -1., -1.],\n",
       "         [-1., -1., -1.],\n",
       "         [-1., -1., -1.],\n",
       "         ...,\n",
       "         [-1., -1., -1.],\n",
       "         [-1., -1., -1.],\n",
       "         [-1., -1., -1.]],\n",
       "\n",
       "        [[-1., -1., -1.],\n",
       "         [-1., -1., -1.],\n",
       "         [-1., -1., -1.],\n",
       "         ...,\n",
       "         [-1., -1., -1.],\n",
       "         [-1., -1., -1.],\n",
       "         [-1., -1., -1.]]],\n",
       "\n",
       "\n",
       "       [[[-1., -1., -1.],\n",
       "         [-1., -1., -1.],\n",
       "         [-1., -1., -1.],\n",
       "         ...,\n",
       "         [-1., -1., -1.],\n",
       "         [-1., -1., -1.],\n",
       "         [-1., -1., -1.]],\n",
       "\n",
       "        [[-1., -1., -1.],\n",
       "         [-1., -1., -1.],\n",
       "         [-1., -1., -1.],\n",
       "         ...,\n",
       "         [-1., -1., -1.],\n",
       "         [-1., -1., -1.],\n",
       "         [-1., -1., -1.]],\n",
       "\n",
       "        [[-1., -1., -1.],\n",
       "         [-1., -1., -1.],\n",
       "         [-1., -1., -1.],\n",
       "         ...,\n",
       "         [-1., -1., -1.],\n",
       "         [-1., -1., -1.],\n",
       "         [-1., -1., -1.]],\n",
       "\n",
       "        ...,\n",
       "\n",
       "        [[-1., -1., -1.],\n",
       "         [-1., -1., -1.],\n",
       "         [-1., -1., -1.],\n",
       "         ...,\n",
       "         [-1., -1., -1.],\n",
       "         [-1., -1., -1.],\n",
       "         [-1., -1., -1.]],\n",
       "\n",
       "        [[-1., -1., -1.],\n",
       "         [-1., -1., -1.],\n",
       "         [-1., -1., -1.],\n",
       "         ...,\n",
       "         [-1., -1., -1.],\n",
       "         [-1., -1., -1.],\n",
       "         [-1., -1., -1.]],\n",
       "\n",
       "        [[-1., -1., -1.],\n",
       "         [-1., -1., -1.],\n",
       "         [-1., -1., -1.],\n",
       "         ...,\n",
       "         [-1., -1., -1.],\n",
       "         [-1., -1., -1.],\n",
       "         [-1., -1., -1.]]],\n",
       "\n",
       "\n",
       "       [[[-1., -1., -1.],\n",
       "         [-1., -1., -1.],\n",
       "         [-1., -1., -1.],\n",
       "         ...,\n",
       "         [-1., -1., -1.],\n",
       "         [-1., -1., -1.],\n",
       "         [-1., -1., -1.]],\n",
       "\n",
       "        [[-1., -1., -1.],\n",
       "         [-1., -1., -1.],\n",
       "         [-1., -1., -1.],\n",
       "         ...,\n",
       "         [-1., -1., -1.],\n",
       "         [-1., -1., -1.],\n",
       "         [-1., -1., -1.]],\n",
       "\n",
       "        [[-1., -1., -1.],\n",
       "         [-1., -1., -1.],\n",
       "         [-1., -1., -1.],\n",
       "         ...,\n",
       "         [-1., -1., -1.],\n",
       "         [-1., -1., -1.],\n",
       "         [-1., -1., -1.]],\n",
       "\n",
       "        ...,\n",
       "\n",
       "        [[-1., -1., -1.],\n",
       "         [-1., -1., -1.],\n",
       "         [-1., -1., -1.],\n",
       "         ...,\n",
       "         [-1., -1., -1.],\n",
       "         [-1., -1., -1.],\n",
       "         [-1., -1., -1.]],\n",
       "\n",
       "        [[-1., -1., -1.],\n",
       "         [-1., -1., -1.],\n",
       "         [-1., -1., -1.],\n",
       "         ...,\n",
       "         [-1., -1., -1.],\n",
       "         [-1., -1., -1.],\n",
       "         [-1., -1., -1.]],\n",
       "\n",
       "        [[-1., -1., -1.],\n",
       "         [-1., -1., -1.],\n",
       "         [-1., -1., -1.],\n",
       "         ...,\n",
       "         [-1., -1., -1.],\n",
       "         [-1., -1., -1.],\n",
       "         [-1., -1., -1.]]]], dtype=float32)"
      ]
     },
     "execution_count": 9,
     "metadata": {},
     "output_type": "execute_result"
    }
   ],
   "source": [
    "train_images = train_images.reshape(img_n, height, weight, chanels).astype('float32')\n",
    "train_images = (train_images - 127.5) / 127.5  # Normalize the images to [-1, 1]\n",
    "train_images"
   ]
  },
  {
   "cell_type": "markdown",
   "id": "horizontal-january",
   "metadata": {},
   "source": [
    "## Create batch generator"
   ]
  },
  {
   "cell_type": "code",
   "execution_count": 323,
   "id": "boring-paris",
   "metadata": {},
   "outputs": [],
   "source": [
    "BUFFER_SIZE = img_n\n",
    "BATCH_SIZE = 128"
   ]
  },
  {
   "cell_type": "code",
   "execution_count": 324,
   "id": "empty-honor",
   "metadata": {},
   "outputs": [],
   "source": [
    "# Batch and shuffle the data\n",
    "train_dataset = tf.data.Dataset.from_tensor_slices(train_images).shuffle(BUFFER_SIZE).batch(BATCH_SIZE)"
   ]
  },
  {
   "cell_type": "code",
   "execution_count": 325,
   "id": "accurate-plaintiff",
   "metadata": {},
   "outputs": [
    {
     "data": {
      "text/plain": [
       "<BatchDataset shapes: (None, 64, 64, 3), types: tf.float32>"
      ]
     },
     "execution_count": 325,
     "metadata": {},
     "output_type": "execute_result"
    }
   ],
   "source": [
    "train_dataset"
   ]
  },
  {
   "cell_type": "markdown",
   "id": "front-graphic",
   "metadata": {},
   "source": [
    "## Viewing some images"
   ]
  },
  {
   "cell_type": "code",
   "execution_count": 326,
   "id": "associate-proportion",
   "metadata": {},
   "outputs": [
    {
     "data": {
      "image/png": "[encoded data removed]",
      "text/plain": [
       "<Figure size 432x288 with 5 Axes>"
      ]
     },
     "metadata": {
      "needs_background": "light"
     },
     "output_type": "display_data"
    }
   ],
   "source": [
    "for image_batch in train_dataset:\n",
    "    f, axarr = plt.subplots(1,5) \n",
    "    for i in range(0,5):\n",
    "        axarr[i].imshow((image_batch[i]+1)/2.0) #scale pixel values from [-1,1] to [0,1]\n",
    "    break"
   ]
  },
  {
   "cell_type": "markdown",
   "id": "grand-magnitude",
   "metadata": {},
   "source": [
    "## Defining generator model"
   ]
  },
  {
   "cell_type": "code",
   "execution_count": 327,
   "id": "humanitarian-reference",
   "metadata": {},
   "outputs": [],
   "source": [
    "def make_generator_model():\n",
    "    model = tf.keras.Sequential()\n",
    "    model.add(layers.Dense(int(height/4)*int(weight/4)*256, use_bias=False, input_shape=(100,)))\n",
    "    model.add(layers.BatchNormalization())\n",
    "    model.add(layers.LeakyReLU())\n",
    "\n",
    "    model.add(layers.Reshape((int(height/4), int(weight/4), 256)))\n",
    "\n",
    "    model.add(layers.Conv2DTranspose(128, (5, 5), strides=(1, 1), padding='same', use_bias=False))\n",
    "    model.add(layers.BatchNormalization())\n",
    "    model.add(layers.LeakyReLU())\n",
    "\n",
    "    model.add(layers.Conv2DTranspose(64, (5, 5), strides=(2, 2), padding='same', use_bias=False))\n",
    "    model.add(layers.BatchNormalization())\n",
    "    model.add(layers.LeakyReLU())\n",
    "\n",
    "    model.add(layers.Conv2DTranspose(3, (5, 5), strides=(2, 2), padding='same', use_bias=False, activation='tanh'))\n",
    "    \n",
    "    return model"
   ]
  },
  {
   "cell_type": "code",
   "execution_count": 328,
   "id": "hungarian-portsmouth",
   "metadata": {},
   "outputs": [
    {
     "name": "stdout",
     "output_type": "stream",
     "text": [
      "Model: \"sequential_28\"\n",
      "_________________________________________________________________\n",
      "Layer (type)                 Output Shape              Param #   \n",
      "=================================================================\n",
      "dense_28 (Dense)             (None, 65536)             6553600   \n",
      "_________________________________________________________________\n",
      "batch_normalization_42 (Batc (None, 65536)             262144    \n",
      "_________________________________________________________________\n",
      "leaky_re_lu_70 (LeakyReLU)   (None, 65536)             0         \n",
      "_________________________________________________________________\n",
      "reshape_14 (Reshape)         (None, 16, 16, 256)       0         \n",
      "_________________________________________________________________\n",
      "conv2d_transpose_42 (Conv2DT (None, 16, 16, 128)       819200    \n",
      "_________________________________________________________________\n",
      "batch_normalization_43 (Batc (None, 16, 16, 128)       512       \n",
      "_________________________________________________________________\n",
      "leaky_re_lu_71 (LeakyReLU)   (None, 16, 16, 128)       0         \n",
      "_________________________________________________________________\n",
      "conv2d_transpose_43 (Conv2DT (None, 32, 32, 64)        204800    \n",
      "_________________________________________________________________\n",
      "batch_normalization_44 (Batc (None, 32, 32, 64)        256       \n",
      "_________________________________________________________________\n",
      "leaky_re_lu_72 (LeakyReLU)   (None, 32, 32, 64)        0         \n",
      "_________________________________________________________________\n",
      "conv2d_transpose_44 (Conv2DT (None, 64, 64, 3)         4800      \n",
      "=================================================================\n",
      "Total params: 7,845,312\n",
      "Trainable params: 7,713,856\n",
      "Non-trainable params: 131,456\n",
      "_________________________________________________________________\n"
     ]
    },
    {
     "data": {
      "text/plain": [
       "<matplotlib.image.AxesImage at 0x7fe91853a6d0>"
      ]
     },
     "execution_count": 328,
     "metadata": {},
     "output_type": "execute_result"
    },
    {
     "data": {
      "image/png": "[encoded data removed]",
      "text/plain": [
       "<Figure size 432x288 with 1 Axes>"
      ]
     },
     "metadata": {
      "needs_background": "light"
     },
     "output_type": "display_data"
    }
   ],
   "source": [
    "generator = make_generator_model()\n",
    "generator.summary()\n",
    "noise = tf.random.normal([1, 100])\n",
    "generated_image = generator(noise, training=False)\n",
    "\n",
    "plt.imshow((generated_image[0]+1)/2.0)"
   ]
  },
  {
   "cell_type": "markdown",
   "id": "micro-wrist",
   "metadata": {},
   "source": [
    "## Defining  discriminator model"
   ]
  },
  {
   "cell_type": "code",
   "execution_count": 329,
   "id": "lined-clock",
   "metadata": {},
   "outputs": [],
   "source": [
    "def make_discriminator_model():\n",
    "    model = tf.keras.Sequential()\n",
    "    model.add(layers.Conv2D(64, (5, 5), strides=(2, 2), padding='same',\n",
    "                                     input_shape=[height, weight, chanels]))\n",
    "    model.add(layers.LeakyReLU())\n",
    "    model.add(layers.Dropout(0.3))\n",
    "\n",
    "    model.add(layers.Conv2D(128, (5, 5), strides=(2, 2), padding='same'))\n",
    "    model.add(layers.LeakyReLU())\n",
    "    model.add(layers.Dropout(0.3))\n",
    "\n",
    "    model.add(layers.Flatten())\n",
    "    model.add(layers.Dense(1))\n",
    "\n",
    "    return model"
   ]
  },
  {
   "cell_type": "code",
   "execution_count": 330,
   "id": "specialized-payment",
   "metadata": {},
   "outputs": [
    {
     "name": "stdout",
     "output_type": "stream",
     "text": [
      "tf.Tensor([[-0.00302843]], shape=(1, 1), dtype=float32)\n"
     ]
    }
   ],
   "source": [
    "discriminator = make_discriminator_model()\n",
    "decision = discriminator(generated_image)\n",
    "print(decision)"
   ]
  },
  {
   "cell_type": "markdown",
   "id": "tough-execution",
   "metadata": {},
   "source": [
    "## Defining loss and optimizers"
   ]
  },
  {
   "cell_type": "code",
   "execution_count": 331,
   "id": "attempted-passing",
   "metadata": {},
   "outputs": [],
   "source": [
    "# This method returns a helper function to compute cross entropy loss\n",
    "cross_entropy = tf.keras.losses.BinaryCrossentropy(from_logits=True)"
   ]
  },
  {
   "cell_type": "code",
   "execution_count": 332,
   "id": "difficult-undergraduate",
   "metadata": {},
   "outputs": [],
   "source": [
    "def discriminator_loss(real_output, fake_output):\n",
    "    real_loss = cross_entropy(tf.ones_like(real_output), real_output)\n",
    "    fake_loss = cross_entropy(tf.zeros_like(fake_output), fake_output)\n",
    "    total_loss = real_loss + fake_loss\n",
    "    return total_loss"
   ]
  },
  {
   "cell_type": "code",
   "execution_count": 333,
   "id": "constitutional-quantity",
   "metadata": {},
   "outputs": [],
   "source": [
    "def generator_loss(fake_output):\n",
    "    return cross_entropy(tf.ones_like(fake_output), fake_output)"
   ]
  },
  {
   "cell_type": "code",
   "execution_count": 334,
   "id": "dress-divorce",
   "metadata": {},
   "outputs": [],
   "source": [
    "generator_optimizer = tf.keras.optimizers.Adam(g_lr)\n",
    "discriminator_optimizer = tf.keras.optimizers.Adam(d_lr)"
   ]
  },
  {
   "cell_type": "markdown",
   "id": "operating-polymer",
   "metadata": {},
   "source": [
    "## Function to generate and save images"
   ]
  },
  {
   "cell_type": "code",
   "execution_count": 335,
   "id": "under-olympus",
   "metadata": {},
   "outputs": [],
   "source": [
    "def generate_and_save_images(model, epoch, test_input):\n",
    "    # Notice `training` is set to False.\n",
    "    # This is so all layers run in inference mode (batchnorm).\n",
    "    predictions = model(test_input, training=False)\n",
    "\n",
    "    fig = plt.figure(figsize=(4, 4))\n",
    "\n",
    "    for i in range(predictions.shape[0]):\n",
    "        plt.subplot(4, 4, i+1)\n",
    "        plt.imshow((predictions[i, :, :] +1)/2.0) #scale pixel values from [-1,1] to [0,1]\n",
    "        plt.axis('off')\n",
    "    \n",
    "    if not os.path.exists(save_image_directory):\n",
    "        os.makedirs(save_image_directory)\n",
    "            \n",
    "    plt.savefig(save_image_directory + 'image_at_epoch_{:04d}.png'.format(epoch))\n",
    "    plt.show()"
   ]
  },
  {
   "cell_type": "markdown",
   "id": "incident-robertson",
   "metadata": {},
   "source": [
    "## Define the training cycle"
   ]
  },
  {
   "cell_type": "code",
   "execution_count": 336,
   "id": "accessible-stone",
   "metadata": {},
   "outputs": [],
   "source": [
    "# Notice the use of `tf.function`\n",
    "# This annotation causes the function to be \"compiled\".\n",
    "@tf.function\n",
    "def train_step(images):\n",
    "    noise = tf.random.normal([BATCH_SIZE, noise_dim])\n",
    "\n",
    "    with tf.GradientTape() as gen_tape, tf.GradientTape() as disc_tape:\n",
    "        generated_images = generator(noise, training=True)\n",
    "\n",
    "        real_output = discriminator(images, training=True)\n",
    "        fake_output = discriminator(generated_images, training=True)\n",
    "\n",
    "        gen_loss = generator_loss(fake_output)\n",
    "        disc_loss = discriminator_loss(real_output, fake_output)\n",
    "\n",
    "    gradients_of_generator = gen_tape.gradient(gen_loss, generator.trainable_variables)\n",
    "    gradients_of_discriminator = disc_tape.gradient(disc_loss, discriminator.trainable_variables)\n",
    "\n",
    "    generator_optimizer.apply_gradients(zip(gradients_of_generator, generator.trainable_variables))\n",
    "    discriminator_optimizer.apply_gradients(zip(gradients_of_discriminator, discriminator.trainable_variables))"
   ]
  },
  {
   "cell_type": "code",
   "execution_count": 337,
   "id": "opposed-xerox",
   "metadata": {},
   "outputs": [],
   "source": [
    "def train(dataset, epochs):\n",
    "    seed = tf.random.normal([num_examples_to_generate, noise_dim])\n",
    "    for epoch in range(epochs):\n",
    "        start = time.time()\n",
    "\n",
    "        for image_batch in dataset:\n",
    "            train_step(image_batch)\n",
    "\n",
    "        # Produce images for the GIF as you go\n",
    "        display.clear_output(wait=True)\n",
    "        \n",
    "        if epoch % 10 == 0:\n",
    "            generate_and_save_images(generator,\n",
    "                                     epoch,\n",
    "                                     seed)\n",
    "\n",
    "        # Save the model every 10 epochs\n",
    "        '''if epoch % 10 == 0:\n",
    "            if not os.path.exists(models_directory):\n",
    "                os.makedirs(models_directory)\n",
    "            # serialize weights to HDF5\n",
    "            generator.save_weights(models_directory + \"generator-iteration-{}-date-{}.h5\".format(epoch, date))\n",
    "        '''\n",
    "        print ('Time for epoch {} is {} sec'.format(epoch + 1, time.time()-start))\n",
    "\n",
    "    # Generate after the final epoch\n",
    "    display.clear_output(wait=True)\n",
    "    generate_and_save_images(generator,\n",
    "                           epochs,\n",
    "                           seed)"
   ]
  },
  {
   "cell_type": "markdown",
   "id": "allied-michigan",
   "metadata": {},
   "source": [
    "## Training"
   ]
  },
  {
   "cell_type": "code",
   "execution_count": 338,
   "id": "varied-stanford",
   "metadata": {},
   "outputs": [
    {
     "data": {
      "image/png": "[encoded data removed]",
      "text/plain": [
       "<Figure size 288x288 with 16 Axes>"
      ]
     },
     "metadata": {
      "needs_background": "light"
     },
     "output_type": "display_data"
    }
   ],
   "source": [
    "train(train_dataset, 2200)"
   ]
  },
  {
   "cell_type": "markdown",
   "id": "distributed-institution",
   "metadata": {},
   "source": [
    "## Create GIF"
   ]
  },
  {
   "cell_type": "code",
   "execution_count": 38,
   "id": "congressional-president",
   "metadata": {},
   "outputs": [],
   "source": [
    "anim_file = 'dcgan.gif'\n",
    "\n",
    "with imageio.get_writer(anim_file, mode='I') as writer:\n",
    "    filenames = glob.glob(save_image_directory+'image*.png')\n",
    "    filenames = sorted(filenames)\n",
    "    for filename in filenames:\n",
    "        image = imageio.imread(filename)\n",
    "        writer.append_data(image)\n",
    "        image = imageio.imread(filename)\n",
    "        writer.append_data(image)"
   ]
  },
  {
   "cell_type": "code",
   "execution_count": 339,
   "id": "happy-logistics",
   "metadata": {},
   "outputs": [],
   "source": [
    "seed = tf.random.normal([700, noise_dim])\n",
    "generated_images = generator(seed, training=False)"
   ]
  },
  {
   "cell_type": "code",
   "execution_count": 340,
   "id": "dress-trail",
   "metadata": {},
   "outputs": [],
   "source": [
    "import matplotlib\n",
    "path = '/home/willys/tesis/Data-augmentation-using-GANs/datasets/lsa16_64x64_rotated/train_augmentation/'\n",
    "image_class = 'class_15/'\n",
    "i = 0\n",
    "\n",
    "for image in generated_images:\n",
    "    proto_tensor = tf.make_tensor_proto(image)\n",
    "    ndarray = tf.make_ndarray(proto_tensor)\n",
    "    matplotlib.image.imsave(path + image_class + 'image_generated_{}.png'.format(i), (ndarray+ 1) / 2.0)\n",
    "    i+=1"
   ]
  },
  {
   "cell_type": "code",
   "execution_count": 110,
   "id": "deluxe-necessity",
   "metadata": {},
   "outputs": [],
   "source": [
    "#Generator sin data augmentation\n",
    "train_datagen = ImageDataGenerator(preprocessing_function=normalize_images)\n",
    "\n",
    "#Directorio de imagenes\n",
    "train_folderpath = '/home/willys/tesis/Data-augmentation-using-GANs/prueba'\n",
    "#train_folderpath='/home/willys/tesis/Data-augmentation-using-GANs/datasets/lsa16_64x64_rotated/full'"
   ]
  },
  {
   "cell_type": "code",
   "execution_count": 111,
   "id": "approximate-logan",
   "metadata": {},
   "outputs": [
    {
     "name": "stdout",
     "output_type": "stream",
     "text": [
      "Found 266 images belonging to 2 classes.\n"
     ]
    }
   ],
   "source": [
    "\n",
    "\n",
    "batch_size = 128\n",
    "\n",
    "train_generator = train_datagen.flow_from_directory(\n",
    "    train_folderpath, # directorio de donde cargar las imagenes (train)\n",
    "    target_size=(64, 64),\n",
    "    batch_size=batch_size,\n",
    "    class_mode='sparse')\n",
    "\n",
    "img_n = train_generator.samples\n",
    "\n"
   ]
  }
 ],
 "metadata": {
  "kernelspec": {
   "display_name": "Python 3",
   "language": "python",
   "name": "python3"
  },
  "language_info": {
   "codemirror_mode": {
    "name": "ipython",
    "version": 3
   },
   "file_extension": ".py",
   "mimetype": "text/x-python",
   "name": "python",
   "nbconvert_exporter": "python",
   "pygments_lexer": "ipython3",
   "version": "3.8.8"
  }
 },
 "nbformat": 4,
 "nbformat_minor": 5
}
