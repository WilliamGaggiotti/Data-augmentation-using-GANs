{
 "cells": [
  {
   "cell_type": "code",
   "execution_count": 26,
   "id": "rocky-turkish",
   "metadata": {},
   "outputs": [],
   "source": [
    "import tensorflow as tf"
   ]
  },
  {
   "cell_type": "code",
   "execution_count": 27,
   "id": "spread-calvin",
   "metadata": {},
   "outputs": [
    {
     "data": {
      "text/plain": [
       "'2.4.0'"
      ]
     },
     "execution_count": 27,
     "metadata": {},
     "output_type": "execute_result"
    }
   ],
   "source": [
    "tf.__version__"
   ]
  },
  {
   "cell_type": "code",
   "execution_count": 93,
   "id": "quantitative-bunch",
   "metadata": {},
   "outputs": [],
   "source": [
    "import glob\n",
    "import imageio\n",
    "import matplotlib.pyplot as plt\n",
    "import numpy as np\n",
    "import os\n",
    "import PIL\n",
    "from tensorflow.keras import layers\n",
    "import time\n",
    "import handshape_datasets as hd\n",
    "from IPython import display\n",
    "from datetime import datetime"
   ]
  },
  {
   "cell_type": "markdown",
   "id": "remarkable-offset",
   "metadata": {},
   "source": [
    "### Check GPU"
   ]
  },
  {
   "cell_type": "code",
   "execution_count": 94,
   "id": "particular-cream",
   "metadata": {},
   "outputs": [
    {
     "name": "stdout",
     "output_type": "stream",
     "text": [
      "1 Physical GPUs, 1 Logical GPUs\n",
      "[LogicalDevice(name='/device:GPU:0', device_type='GPU')]\n"
     ]
    },
    {
     "data": {
      "text/plain": [
       "True"
      ]
     },
     "execution_count": 94,
     "metadata": {},
     "output_type": "execute_result"
    }
   ],
   "source": [
    "#Check GPU\n",
    "gpus = tf.config.experimental.list_physical_devices('GPU')\n",
    "if gpus:\n",
    "    try:\n",
    "        # Currently, memory growth needs to be the same across GPUs\n",
    "        for gpu in gpus:\n",
    "              tf.config.experimental.set_memory_growth(gpu, True)\n",
    "        logical_gpus = tf.config.experimental.list_logical_devices('GPU')\n",
    "        print(len(gpus), \"Physical GPUs,\", len(logical_gpus), \"Logical GPUs\")\n",
    "    except RuntimeError as e:\n",
    "        # Memory growth must be set before GPUs have been initialized\n",
    "        print(e)\n",
    "        \n",
    "print(tf.config.experimental.list_logical_devices('GPU'))\n",
    "tf.test.is_gpu_available()"
   ]
  },
  {
   "cell_type": "markdown",
   "id": "light-honor",
   "metadata": {},
   "source": [
    "## Load dataset"
   ]
  },
  {
   "cell_type": "code",
   "execution_count": 191,
   "id": "pacific-spouse",
   "metadata": {},
   "outputs": [
    {
     "name": "stderr",
     "output_type": "stream",
     "text": [
      "INFO:Loading lsa16...\n",
      "INFO:Loading default version: color\n"
     ]
    },
    {
     "data": {
      "text/plain": [
       "(50, 32, 32, 3)"
      ]
     },
     "execution_count": 191,
     "metadata": {},
     "output_type": "execute_result"
    }
   ],
   "source": [
    "data = hd.load('lsa16')\n",
    "\n",
    "good_min = 40\n",
    "good_classes = []\n",
    "n_unique = len(np.unique(data[1]['y']))\n",
    "for i in range(n_unique):\n",
    "    images = data[0][np.equal(i, data[1]['y'])]\n",
    "    if len(images) >= good_min:\n",
    "        good_classes = good_classes + [i]\n",
    "        \n",
    "x = data[0][np.in1d(data[1]['y'], good_classes)]\n",
    "img_shape = x[0].shape\n",
    "\n",
    "y = data[1]['y'][np.in1d(data[1]['y'], good_classes)]\n",
    "y_dict = dict(zip(np.unique(y), range(len(np.unique(y)))))\n",
    "y = np.vectorize(y_dict.get)(y)\n",
    "\n",
    "#x_train, x_test, y_train, y_test = train_test_split(x, y, train_size=0.8, test_size=0.2, stratify=y)\n",
    "\n",
    "#classes = np.unique(y_train)\n",
    "#n_classes = len(classes)\n",
    "#train_size = x_train.shape[0]\n",
    "#test_size = x_test.shape[0]\n",
    "\n",
    "train_images = x[np.equal(15, data[1]['y'])]\n",
    "\n",
    "train_images.shape"
   ]
  },
  {
   "cell_type": "markdown",
   "id": "equivalent-holmes",
   "metadata": {},
   "source": [
    "## Hyperparameters"
   ]
  },
  {
   "cell_type": "code",
   "execution_count": 192,
   "id": "further-builder",
   "metadata": {},
   "outputs": [
    {
     "name": "stdout",
     "output_type": "stream",
     "text": [
      " number of images: 50\n",
      " height: 32\n",
      " weight: 32\n",
      " chanels: 3\n"
     ]
    },
    {
     "data": {
      "text/plain": [
       "'../../data_gen/Basic-GAN/lsa16-class-15/'"
      ]
     },
     "execution_count": 192,
     "metadata": {},
     "output_type": "execute_result"
    }
   ],
   "source": [
    "# training\n",
    "g_lr = 1e-4\n",
    "d_lr = 1e-4\n",
    "epochs = 200\n",
    "#max_patience = 200\n",
    "#min_loss = 25\n",
    "#min_loss_acc = 0\n",
    "batch_size = 128\n",
    "noise_dim = 100\n",
    "num_examples_to_generate = 16\n",
    "\n",
    "# log\n",
    "log_freq = 1\n",
    "dataset_directory = \"lsa16-class-15/\"\n",
    "models_directory = 'results/models/Basic-GAN/' + dataset_directory\n",
    "date = datetime.now().strftime(\"%Y_%m_%d-%H:%M:%S\")\n",
    "save_image_directory = \"../../data_gen/Basic-GAN/\" + dataset_directory\n",
    "#identifier = \"simple_gan-\" + date\n",
    "\n",
    "#save_image_directory = '/home/william/tesis/Data-augmentation-using-GANs/data_gen/Basic-GAN/' + dataset_directory\n",
    "\n",
    "\n",
    "\n",
    "# shapes\n",
    "img_n , height, weight, chanels = train_images.shape\n",
    "\n",
    "print(\" number of images: {}\\n height: {}\\n weight: {}\\n chanels: {}\".format(img_n , height, weight, chanels))\n",
    "save_image_directory"
   ]
  },
  {
   "cell_type": "markdown",
   "id": "equal-width",
   "metadata": {},
   "source": [
    "## Normalization\n",
    "\n",
    "Debemos escalar los valores de los píxeles desde el rango de enteros sin signo en [0,255] al rango normalizado de [-1,1].\n",
    "\n",
    "El modelo del generador generará imágenes con valores de píxeles en el rango [-1,1] ya que utilizará la función de activación tanh.\n",
    "\n",
    "También es una buena práctica que las imágenes reales se escalen al mismo rango"
   ]
  },
  {
   "cell_type": "code",
   "execution_count": 193,
   "id": "young-roommate",
   "metadata": {
    "scrolled": true
   },
   "outputs": [
    {
     "data": {
      "text/plain": [
       "array([[[[-1., -1., -1.],\n",
       "         [-1., -1., -1.],\n",
       "         [-1., -1., -1.],\n",
       "         ...,\n",
       "         [-1., -1., -1.],\n",
       "         [-1., -1., -1.],\n",
       "         [-1., -1., -1.]],\n",
       "\n",
       "        [[-1., -1., -1.],\n",
       "         [-1., -1., -1.],\n",
       "         [-1., -1., -1.],\n",
       "         ...,\n",
       "         [-1., -1., -1.],\n",
       "         [-1., -1., -1.],\n",
       "         [-1., -1., -1.]],\n",
       "\n",
       "        [[-1., -1., -1.],\n",
       "         [-1., -1., -1.],\n",
       "         [-1., -1., -1.],\n",
       "         ...,\n",
       "         [-1., -1., -1.],\n",
       "         [-1., -1., -1.],\n",
       "         [-1., -1., -1.]],\n",
       "\n",
       "        ...,\n",
       "\n",
       "        [[-1., -1., -1.],\n",
       "         [-1., -1., -1.],\n",
       "         [-1., -1., -1.],\n",
       "         ...,\n",
       "         [-1., -1., -1.],\n",
       "         [-1., -1., -1.],\n",
       "         [-1., -1., -1.]],\n",
       "\n",
       "        [[-1., -1., -1.],\n",
       "         [-1., -1., -1.],\n",
       "         [-1., -1., -1.],\n",
       "         ...,\n",
       "         [-1., -1., -1.],\n",
       "         [-1., -1., -1.],\n",
       "         [-1., -1., -1.]],\n",
       "\n",
       "        [[-1., -1., -1.],\n",
       "         [-1., -1., -1.],\n",
       "         [-1., -1., -1.],\n",
       "         ...,\n",
       "         [-1., -1., -1.],\n",
       "         [-1., -1., -1.],\n",
       "         [-1., -1., -1.]]],\n",
       "\n",
       "\n",
       "       [[[-1., -1., -1.],\n",
       "         [-1., -1., -1.],\n",
       "         [-1., -1., -1.],\n",
       "         ...,\n",
       "         [-1., -1., -1.],\n",
       "         [-1., -1., -1.],\n",
       "         [-1., -1., -1.]],\n",
       "\n",
       "        [[-1., -1., -1.],\n",
       "         [-1., -1., -1.],\n",
       "         [-1., -1., -1.],\n",
       "         ...,\n",
       "         [-1., -1., -1.],\n",
       "         [-1., -1., -1.],\n",
       "         [-1., -1., -1.]],\n",
       "\n",
       "        [[-1., -1., -1.],\n",
       "         [-1., -1., -1.],\n",
       "         [-1., -1., -1.],\n",
       "         ...,\n",
       "         [-1., -1., -1.],\n",
       "         [-1., -1., -1.],\n",
       "         [-1., -1., -1.]],\n",
       "\n",
       "        ...,\n",
       "\n",
       "        [[-1., -1., -1.],\n",
       "         [-1., -1., -1.],\n",
       "         [-1., -1., -1.],\n",
       "         ...,\n",
       "         [-1., -1., -1.],\n",
       "         [-1., -1., -1.],\n",
       "         [-1., -1., -1.]],\n",
       "\n",
       "        [[-1., -1., -1.],\n",
       "         [-1., -1., -1.],\n",
       "         [-1., -1., -1.],\n",
       "         ...,\n",
       "         [-1., -1., -1.],\n",
       "         [-1., -1., -1.],\n",
       "         [-1., -1., -1.]],\n",
       "\n",
       "        [[-1., -1., -1.],\n",
       "         [-1., -1., -1.],\n",
       "         [-1., -1., -1.],\n",
       "         ...,\n",
       "         [-1., -1., -1.],\n",
       "         [-1., -1., -1.],\n",
       "         [-1., -1., -1.]]],\n",
       "\n",
       "\n",
       "       [[[-1., -1., -1.],\n",
       "         [-1., -1., -1.],\n",
       "         [-1., -1., -1.],\n",
       "         ...,\n",
       "         [-1., -1., -1.],\n",
       "         [-1., -1., -1.],\n",
       "         [-1., -1., -1.]],\n",
       "\n",
       "        [[-1., -1., -1.],\n",
       "         [-1., -1., -1.],\n",
       "         [-1., -1., -1.],\n",
       "         ...,\n",
       "         [-1., -1., -1.],\n",
       "         [-1., -1., -1.],\n",
       "         [-1., -1., -1.]],\n",
       "\n",
       "        [[-1., -1., -1.],\n",
       "         [-1., -1., -1.],\n",
       "         [-1., -1., -1.],\n",
       "         ...,\n",
       "         [-1., -1., -1.],\n",
       "         [-1., -1., -1.],\n",
       "         [-1., -1., -1.]],\n",
       "\n",
       "        ...,\n",
       "\n",
       "        [[-1., -1., -1.],\n",
       "         [-1., -1., -1.],\n",
       "         [-1., -1., -1.],\n",
       "         ...,\n",
       "         [-1., -1., -1.],\n",
       "         [-1., -1., -1.],\n",
       "         [-1., -1., -1.]],\n",
       "\n",
       "        [[-1., -1., -1.],\n",
       "         [-1., -1., -1.],\n",
       "         [-1., -1., -1.],\n",
       "         ...,\n",
       "         [-1., -1., -1.],\n",
       "         [-1., -1., -1.],\n",
       "         [-1., -1., -1.]],\n",
       "\n",
       "        [[-1., -1., -1.],\n",
       "         [-1., -1., -1.],\n",
       "         [-1., -1., -1.],\n",
       "         ...,\n",
       "         [-1., -1., -1.],\n",
       "         [-1., -1., -1.],\n",
       "         [-1., -1., -1.]]],\n",
       "\n",
       "\n",
       "       ...,\n",
       "\n",
       "\n",
       "       [[[-1., -1., -1.],\n",
       "         [-1., -1., -1.],\n",
       "         [-1., -1., -1.],\n",
       "         ...,\n",
       "         [-1., -1., -1.],\n",
       "         [-1., -1., -1.],\n",
       "         [-1., -1., -1.]],\n",
       "\n",
       "        [[-1., -1., -1.],\n",
       "         [-1., -1., -1.],\n",
       "         [-1., -1., -1.],\n",
       "         ...,\n",
       "         [-1., -1., -1.],\n",
       "         [-1., -1., -1.],\n",
       "         [-1., -1., -1.]],\n",
       "\n",
       "        [[-1., -1., -1.],\n",
       "         [-1., -1., -1.],\n",
       "         [-1., -1., -1.],\n",
       "         ...,\n",
       "         [-1., -1., -1.],\n",
       "         [-1., -1., -1.],\n",
       "         [-1., -1., -1.]],\n",
       "\n",
       "        ...,\n",
       "\n",
       "        [[-1., -1., -1.],\n",
       "         [-1., -1., -1.],\n",
       "         [-1., -1., -1.],\n",
       "         ...,\n",
       "         [-1., -1., -1.],\n",
       "         [-1., -1., -1.],\n",
       "         [-1., -1., -1.]],\n",
       "\n",
       "        [[-1., -1., -1.],\n",
       "         [-1., -1., -1.],\n",
       "         [-1., -1., -1.],\n",
       "         ...,\n",
       "         [-1., -1., -1.],\n",
       "         [-1., -1., -1.],\n",
       "         [-1., -1., -1.]],\n",
       "\n",
       "        [[-1., -1., -1.],\n",
       "         [-1., -1., -1.],\n",
       "         [-1., -1., -1.],\n",
       "         ...,\n",
       "         [-1., -1., -1.],\n",
       "         [-1., -1., -1.],\n",
       "         [-1., -1., -1.]]],\n",
       "\n",
       "\n",
       "       [[[-1., -1., -1.],\n",
       "         [-1., -1., -1.],\n",
       "         [-1., -1., -1.],\n",
       "         ...,\n",
       "         [-1., -1., -1.],\n",
       "         [-1., -1., -1.],\n",
       "         [-1., -1., -1.]],\n",
       "\n",
       "        [[-1., -1., -1.],\n",
       "         [-1., -1., -1.],\n",
       "         [-1., -1., -1.],\n",
       "         ...,\n",
       "         [-1., -1., -1.],\n",
       "         [-1., -1., -1.],\n",
       "         [-1., -1., -1.]],\n",
       "\n",
       "        [[-1., -1., -1.],\n",
       "         [-1., -1., -1.],\n",
       "         [-1., -1., -1.],\n",
       "         ...,\n",
       "         [-1., -1., -1.],\n",
       "         [-1., -1., -1.],\n",
       "         [-1., -1., -1.]],\n",
       "\n",
       "        ...,\n",
       "\n",
       "        [[-1., -1., -1.],\n",
       "         [-1., -1., -1.],\n",
       "         [-1., -1., -1.],\n",
       "         ...,\n",
       "         [-1., -1., -1.],\n",
       "         [-1., -1., -1.],\n",
       "         [-1., -1., -1.]],\n",
       "\n",
       "        [[-1., -1., -1.],\n",
       "         [-1., -1., -1.],\n",
       "         [-1., -1., -1.],\n",
       "         ...,\n",
       "         [-1., -1., -1.],\n",
       "         [-1., -1., -1.],\n",
       "         [-1., -1., -1.]],\n",
       "\n",
       "        [[-1., -1., -1.],\n",
       "         [-1., -1., -1.],\n",
       "         [-1., -1., -1.],\n",
       "         ...,\n",
       "         [-1., -1., -1.],\n",
       "         [-1., -1., -1.],\n",
       "         [-1., -1., -1.]]],\n",
       "\n",
       "\n",
       "       [[[-1., -1., -1.],\n",
       "         [-1., -1., -1.],\n",
       "         [-1., -1., -1.],\n",
       "         ...,\n",
       "         [-1., -1., -1.],\n",
       "         [-1., -1., -1.],\n",
       "         [-1., -1., -1.]],\n",
       "\n",
       "        [[-1., -1., -1.],\n",
       "         [-1., -1., -1.],\n",
       "         [-1., -1., -1.],\n",
       "         ...,\n",
       "         [-1., -1., -1.],\n",
       "         [-1., -1., -1.],\n",
       "         [-1., -1., -1.]],\n",
       "\n",
       "        [[-1., -1., -1.],\n",
       "         [-1., -1., -1.],\n",
       "         [-1., -1., -1.],\n",
       "         ...,\n",
       "         [-1., -1., -1.],\n",
       "         [-1., -1., -1.],\n",
       "         [-1., -1., -1.]],\n",
       "\n",
       "        ...,\n",
       "\n",
       "        [[-1., -1., -1.],\n",
       "         [-1., -1., -1.],\n",
       "         [-1., -1., -1.],\n",
       "         ...,\n",
       "         [-1., -1., -1.],\n",
       "         [-1., -1., -1.],\n",
       "         [-1., -1., -1.]],\n",
       "\n",
       "        [[-1., -1., -1.],\n",
       "         [-1., -1., -1.],\n",
       "         [-1., -1., -1.],\n",
       "         ...,\n",
       "         [-1., -1., -1.],\n",
       "         [-1., -1., -1.],\n",
       "         [-1., -1., -1.]],\n",
       "\n",
       "        [[-1., -1., -1.],\n",
       "         [-1., -1., -1.],\n",
       "         [-1., -1., -1.],\n",
       "         ...,\n",
       "         [-1., -1., -1.],\n",
       "         [-1., -1., -1.],\n",
       "         [-1., -1., -1.]]]], dtype=float32)"
      ]
     },
     "execution_count": 193,
     "metadata": {},
     "output_type": "execute_result"
    }
   ],
   "source": [
    "train_images = train_images.reshape(img_n, height, weight, chanels).astype('float32')\n",
    "train_images = (train_images - 127.5) / 127.5  # Normalize the images to [-1, 1]\n",
    "train_images"
   ]
  },
  {
   "cell_type": "markdown",
   "id": "horizontal-january",
   "metadata": {},
   "source": [
    "## Create batch generator"
   ]
  },
  {
   "cell_type": "code",
   "execution_count": 194,
   "id": "boring-paris",
   "metadata": {},
   "outputs": [],
   "source": [
    "BUFFER_SIZE = img_n\n",
    "BATCH_SIZE = 10"
   ]
  },
  {
   "cell_type": "code",
   "execution_count": 195,
   "id": "empty-honor",
   "metadata": {},
   "outputs": [],
   "source": [
    "# Batch and shuffle the data\n",
    "train_dataset = tf.data.Dataset.from_tensor_slices(train_images).shuffle(BUFFER_SIZE).batch(BATCH_SIZE)"
   ]
  },
  {
   "cell_type": "code",
   "execution_count": 196,
   "id": "accurate-plaintiff",
   "metadata": {},
   "outputs": [
    {
     "data": {
      "text/plain": [
       "<BatchDataset shapes: (None, 32, 32, 3), types: tf.float32>"
      ]
     },
     "execution_count": 196,
     "metadata": {},
     "output_type": "execute_result"
    }
   ],
   "source": [
    "train_dataset"
   ]
  },
  {
   "cell_type": "markdown",
   "id": "front-graphic",
   "metadata": {},
   "source": [
    "## Viewing some images"
   ]
  },
  {
   "cell_type": "code",
   "execution_count": 197,
   "id": "associate-proportion",
   "metadata": {},
   "outputs": [
    {
     "data": {
      "image/png": "[encoded data removed]",
      "text/plain": [
       "<Figure size 432x288 with 5 Axes>"
      ]
     },
     "metadata": {
      "needs_background": "light"
     },
     "output_type": "display_data"
    }
   ],
   "source": [
    "for image_batch in train_dataset:\n",
    "    f, axarr = plt.subplots(1,5) \n",
    "    for i in range(0,5):\n",
    "        axarr[i].imshow((image_batch[i]+1)/2.0) #scale pixel values from [-1,1] to [0,1]\n",
    "    break"
   ]
  },
  {
   "cell_type": "markdown",
   "id": "grand-magnitude",
   "metadata": {},
   "source": [
    "## Defining generator model"
   ]
  },
  {
   "cell_type": "code",
   "execution_count": 198,
   "id": "humanitarian-reference",
   "metadata": {},
   "outputs": [],
   "source": [
    "def make_generator_model():\n",
    "    model = tf.keras.Sequential()\n",
    "    model.add(layers.Dense(int(height/4)*int(weight/4)*256, use_bias=False, input_shape=(100,)))\n",
    "    model.add(layers.BatchNormalization())\n",
    "    model.add(layers.LeakyReLU())\n",
    "\n",
    "    model.add(layers.Reshape((int(height/4), int(weight/4), 256)))\n",
    "\n",
    "    model.add(layers.Conv2DTranspose(128, (5, 5), strides=(1, 1), padding='same', use_bias=False))\n",
    "    model.add(layers.BatchNormalization())\n",
    "    model.add(layers.LeakyReLU())\n",
    "\n",
    "    model.add(layers.Conv2DTranspose(64, (5, 5), strides=(2, 2), padding='same', use_bias=False))\n",
    "    model.add(layers.BatchNormalization())\n",
    "    model.add(layers.LeakyReLU())\n",
    "\n",
    "    model.add(layers.Conv2DTranspose(3, (5, 5), strides=(2, 2), padding='same', use_bias=False, activation='tanh'))\n",
    "    \n",
    "    return model"
   ]
  },
  {
   "cell_type": "code",
   "execution_count": 199,
   "id": "hungarian-portsmouth",
   "metadata": {},
   "outputs": [
    {
     "name": "stdout",
     "output_type": "stream",
     "text": [
      "Model: \"sequential_10\"\n",
      "_________________________________________________________________\n",
      "Layer (type)                 Output Shape              Param #   \n",
      "=================================================================\n",
      "dense_10 (Dense)             (None, 16384)             1638400   \n",
      "_________________________________________________________________\n",
      "batch_normalization_15 (Batc (None, 16384)             65536     \n",
      "_________________________________________________________________\n",
      "leaky_re_lu_25 (LeakyReLU)   (None, 16384)             0         \n",
      "_________________________________________________________________\n",
      "reshape_5 (Reshape)          (None, 8, 8, 256)         0         \n",
      "_________________________________________________________________\n",
      "conv2d_transpose_15 (Conv2DT (None, 8, 8, 128)         819200    \n",
      "_________________________________________________________________\n",
      "batch_normalization_16 (Batc (None, 8, 8, 128)         512       \n",
      "_________________________________________________________________\n",
      "leaky_re_lu_26 (LeakyReLU)   (None, 8, 8, 128)         0         \n",
      "_________________________________________________________________\n",
      "conv2d_transpose_16 (Conv2DT (None, 16, 16, 64)        204800    \n",
      "_________________________________________________________________\n",
      "batch_normalization_17 (Batc (None, 16, 16, 64)        256       \n",
      "_________________________________________________________________\n",
      "leaky_re_lu_27 (LeakyReLU)   (None, 16, 16, 64)        0         \n",
      "_________________________________________________________________\n",
      "conv2d_transpose_17 (Conv2DT (None, 32, 32, 3)         4800      \n",
      "=================================================================\n",
      "Total params: 2,733,504\n",
      "Trainable params: 2,700,352\n",
      "Non-trainable params: 33,152\n",
      "_________________________________________________________________\n"
     ]
    },
    {
     "data": {
      "text/plain": [
       "<matplotlib.image.AxesImage at 0x7f5ad028d250>"
      ]
     },
     "execution_count": 199,
     "metadata": {},
     "output_type": "execute_result"
    },
    {
     "data": {
      "image/png": "[encoded data removed]",
      "text/plain": [
       "<Figure size 432x288 with 1 Axes>"
      ]
     },
     "metadata": {
      "needs_background": "light"
     },
     "output_type": "display_data"
    }
   ],
   "source": [
    "generator = make_generator_model()\n",
    "generator.summary()\n",
    "noise = tf.random.normal([1, 100])\n",
    "generated_image = generator(noise, training=False)\n",
    "\n",
    "plt.imshow((generated_image[0]+1)/2.0)"
   ]
  },
  {
   "cell_type": "markdown",
   "id": "micro-wrist",
   "metadata": {},
   "source": [
    "## Defining  discriminator model"
   ]
  },
  {
   "cell_type": "code",
   "execution_count": 200,
   "id": "lined-clock",
   "metadata": {},
   "outputs": [],
   "source": [
    "def make_discriminator_model():\n",
    "    model = tf.keras.Sequential()\n",
    "    model.add(layers.Conv2D(64, (5, 5), strides=(2, 2), padding='same',\n",
    "                                     input_shape=[height, weight, chanels]))\n",
    "    model.add(layers.LeakyReLU())\n",
    "    model.add(layers.Dropout(0.3))\n",
    "\n",
    "    model.add(layers.Conv2D(128, (5, 5), strides=(2, 2), padding='same'))\n",
    "    model.add(layers.LeakyReLU())\n",
    "    model.add(layers.Dropout(0.3))\n",
    "\n",
    "    model.add(layers.Flatten())\n",
    "    model.add(layers.Dense(1))\n",
    "\n",
    "    return model"
   ]
  },
  {
   "cell_type": "code",
   "execution_count": 201,
   "id": "specialized-payment",
   "metadata": {},
   "outputs": [
    {
     "name": "stdout",
     "output_type": "stream",
     "text": [
      "tf.Tensor([[-0.00162621]], shape=(1, 1), dtype=float32)\n"
     ]
    }
   ],
   "source": [
    "discriminator = make_discriminator_model()\n",
    "decision = discriminator(generated_image)\n",
    "print(decision)"
   ]
  },
  {
   "cell_type": "markdown",
   "id": "tough-execution",
   "metadata": {},
   "source": [
    "## Defining loss and optimizers"
   ]
  },
  {
   "cell_type": "code",
   "execution_count": 202,
   "id": "attempted-passing",
   "metadata": {},
   "outputs": [],
   "source": [
    "# This method returns a helper function to compute cross entropy loss\n",
    "cross_entropy = tf.keras.losses.BinaryCrossentropy(from_logits=True)"
   ]
  },
  {
   "cell_type": "code",
   "execution_count": 203,
   "id": "difficult-undergraduate",
   "metadata": {},
   "outputs": [],
   "source": [
    "def discriminator_loss(real_output, fake_output):\n",
    "    real_loss = cross_entropy(tf.ones_like(real_output), real_output)\n",
    "    fake_loss = cross_entropy(tf.zeros_like(fake_output), fake_output)\n",
    "    total_loss = real_loss + fake_loss\n",
    "    return total_loss"
   ]
  },
  {
   "cell_type": "code",
   "execution_count": 204,
   "id": "constitutional-quantity",
   "metadata": {},
   "outputs": [],
   "source": [
    "def generator_loss(fake_output):\n",
    "    return cross_entropy(tf.ones_like(fake_output), fake_output)"
   ]
  },
  {
   "cell_type": "code",
   "execution_count": 205,
   "id": "dress-divorce",
   "metadata": {},
   "outputs": [],
   "source": [
    "generator_optimizer = tf.keras.optimizers.Adam(g_lr)\n",
    "discriminator_optimizer = tf.keras.optimizers.Adam(d_lr)"
   ]
  },
  {
   "cell_type": "markdown",
   "id": "operating-polymer",
   "metadata": {},
   "source": [
    "## Function to generate and save images"
   ]
  },
  {
   "cell_type": "code",
   "execution_count": 206,
   "id": "under-olympus",
   "metadata": {},
   "outputs": [],
   "source": [
    "def generate_and_save_images(model, epoch, test_input):\n",
    "    # Notice `training` is set to False.\n",
    "    # This is so all layers run in inference mode (batchnorm).\n",
    "    predictions = model(test_input, training=False)\n",
    "\n",
    "    fig = plt.figure(figsize=(4, 4))\n",
    "\n",
    "    for i in range(predictions.shape[0]):\n",
    "        plt.subplot(4, 4, i+1)\n",
    "        plt.imshow((predictions[i, :, :] +1)/2.0) #scale pixel values from [-1,1] to [0,1]\n",
    "        plt.axis('off')\n",
    "    \n",
    "    if not os.path.exists(save_image_directory):\n",
    "        os.makedirs(save_image_directory)\n",
    "            \n",
    "    plt.savefig(save_image_directory + 'image_at_epoch_{:04d}.png'.format(epoch))\n",
    "    plt.show()"
   ]
  },
  {
   "cell_type": "markdown",
   "id": "incident-robertson",
   "metadata": {},
   "source": [
    "## Define the training cycle"
   ]
  },
  {
   "cell_type": "code",
   "execution_count": 207,
   "id": "accessible-stone",
   "metadata": {},
   "outputs": [],
   "source": [
    "# Notice the use of `tf.function`\n",
    "# This annotation causes the function to be \"compiled\".\n",
    "@tf.function\n",
    "def train_step(images):\n",
    "    noise = tf.random.normal([BATCH_SIZE, noise_dim])\n",
    "\n",
    "    with tf.GradientTape() as gen_tape, tf.GradientTape() as disc_tape:\n",
    "        generated_images = generator(noise, training=True)\n",
    "\n",
    "        real_output = discriminator(images, training=True)\n",
    "        fake_output = discriminator(generated_images, training=True)\n",
    "\n",
    "        gen_loss = generator_loss(fake_output)\n",
    "        disc_loss = discriminator_loss(real_output, fake_output)\n",
    "\n",
    "    gradients_of_generator = gen_tape.gradient(gen_loss, generator.trainable_variables)\n",
    "    gradients_of_discriminator = disc_tape.gradient(disc_loss, discriminator.trainable_variables)\n",
    "\n",
    "    generator_optimizer.apply_gradients(zip(gradients_of_generator, generator.trainable_variables))\n",
    "    discriminator_optimizer.apply_gradients(zip(gradients_of_discriminator, discriminator.trainable_variables))"
   ]
  },
  {
   "cell_type": "code",
   "execution_count": 208,
   "id": "opposed-xerox",
   "metadata": {},
   "outputs": [],
   "source": [
    "def train(dataset, epochs):\n",
    "    seed = tf.random.normal([num_examples_to_generate, noise_dim])\n",
    "    for epoch in range(epochs):\n",
    "        start = time.time()\n",
    "\n",
    "        for image_batch in dataset:\n",
    "            train_step(image_batch)\n",
    "\n",
    "        # Produce images for the GIF as you go\n",
    "        display.clear_output(wait=True)\n",
    "        if epoch % 10 == 0:\n",
    "            generate_and_save_images(generator,\n",
    "                                     epoch,\n",
    "                                     seed)\n",
    "\n",
    "        # Save the model every 10 epochs\n",
    "        if epoch % 10 == 0:\n",
    "            if not os.path.exists(models_directory):\n",
    "                os.makedirs(models_directory)\n",
    "            # serialize weights to HDF5\n",
    "            generator.save_weights(models_directory + \"generator-iteration-{}-date-{}.h5\".format(epoch, date))\n",
    "\n",
    "        print ('Time for epoch {} is {} sec'.format(epoch + 1, time.time()-start))\n",
    "\n",
    "    # Generate after the final epoch\n",
    "    display.clear_output(wait=True)\n",
    "    generate_and_save_images(generator,\n",
    "                           epochs,\n",
    "                           seed)"
   ]
  },
  {
   "cell_type": "markdown",
   "id": "allied-michigan",
   "metadata": {},
   "source": [
    "## Training"
   ]
  },
  {
   "cell_type": "code",
   "execution_count": 209,
   "id": "varied-stanford",
   "metadata": {},
   "outputs": [
    {
     "data": {
      "image/png": "[encoded data removed]",
      "text/plain": [
       "<Figure size 288x288 with 16 Axes>"
      ]
     },
     "metadata": {
      "needs_background": "light"
     },
     "output_type": "display_data"
    }
   ],
   "source": [
    "train(train_dataset, 3000)"
   ]
  },
  {
   "cell_type": "markdown",
   "id": "distributed-institution",
   "metadata": {},
   "source": [
    "## Create GIF"
   ]
  },
  {
   "cell_type": "code",
   "execution_count": 173,
   "id": "congressional-president",
   "metadata": {},
   "outputs": [
    {
     "ename": "IndentationError",
     "evalue": "expected an indented block (<ipython-input-173-91a6284003da>, line 7)",
     "output_type": "error",
     "traceback": [
      "\u001b[0;36m  File \u001b[0;32m\"<ipython-input-173-91a6284003da>\"\u001b[0;36m, line \u001b[0;32m7\u001b[0m\n\u001b[0;31m    image = imageio.imread(filename)\u001b[0m\n\u001b[0m    ^\u001b[0m\n\u001b[0;31mIndentationError\u001b[0m\u001b[0;31m:\u001b[0m expected an indented block\n"
     ]
    }
   ],
   "source": [
    "anim_file = 'dcgan.gif'\n",
    "\n",
    "with imageio.get_writer(anim_file, mode='I') as writer:\n",
    "    filenames = glob.glob('image*.png')\n",
    "    filenames = sorted(filenames)\n",
    "    for filename in filenames:\n",
    "    image = imageio.imread(filename)\n",
    "    writer.append_data(image)\n",
    "    image = imageio.imread(filename)\n",
    "    writer.append_data(image)"
   ]
  },
  {
   "cell_type": "code",
   "execution_count": null,
   "id": "embedded-korea",
   "metadata": {},
   "outputs": [],
   "source": []
  }
 ],
 "metadata": {
  "kernelspec": {
   "display_name": "Python 3",
   "language": "python",
   "name": "python3"
  },
  "language_info": {
   "codemirror_mode": {
    "name": "ipython",
    "version": 3
   },
   "file_extension": ".py",
   "mimetype": "text/x-python",
   "name": "python",
   "nbconvert_exporter": "python",
   "pygments_lexer": "ipython3",
   "version": "3.8.8"
  }
 },
 "nbformat": 4,
 "nbformat_minor": 5
}
